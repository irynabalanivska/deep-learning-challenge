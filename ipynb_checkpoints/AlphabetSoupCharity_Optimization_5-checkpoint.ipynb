{
 "cells": [
  {
   "cell_type": "markdown",
   "metadata": {},
   "source": [
    "## Preprocessing"
   ]
  },
  {
   "cell_type": "code",
   "execution_count": 6,
   "metadata": {
    "scrolled": true
   },
   "outputs": [
    {
     "data": {
      "text/html": [
       "<div>\n",
       "<style scoped>\n",
       "    .dataframe tbody tr th:only-of-type {\n",
       "        vertical-align: middle;\n",
       "    }\n",
       "\n",
       "    .dataframe tbody tr th {\n",
       "        vertical-align: top;\n",
       "    }\n",
       "\n",
       "    .dataframe thead th {\n",
       "        text-align: right;\n",
       "    }\n",
       "</style>\n",
       "<table border=\"1\" class=\"dataframe\">\n",
       "  <thead>\n",
       "    <tr style=\"text-align: right;\">\n",
       "      <th></th>\n",
       "      <th>EIN</th>\n",
       "      <th>NAME</th>\n",
       "      <th>APPLICATION_TYPE</th>\n",
       "      <th>AFFILIATION</th>\n",
       "      <th>CLASSIFICATION</th>\n",
       "      <th>USE_CASE</th>\n",
       "      <th>ORGANIZATION</th>\n",
       "      <th>STATUS</th>\n",
       "      <th>INCOME_AMT</th>\n",
       "      <th>SPECIAL_CONSIDERATIONS</th>\n",
       "      <th>ASK_AMT</th>\n",
       "      <th>IS_SUCCESSFUL</th>\n",
       "    </tr>\n",
       "  </thead>\n",
       "  <tbody>\n",
       "    <tr>\n",
       "      <th>0</th>\n",
       "      <td>10520599</td>\n",
       "      <td>BLUE KNIGHTS MOTORCYCLE CLUB</td>\n",
       "      <td>T10</td>\n",
       "      <td>Independent</td>\n",
       "      <td>C1000</td>\n",
       "      <td>ProductDev</td>\n",
       "      <td>Association</td>\n",
       "      <td>1</td>\n",
       "      <td>0</td>\n",
       "      <td>N</td>\n",
       "      <td>5000</td>\n",
       "      <td>1</td>\n",
       "    </tr>\n",
       "    <tr>\n",
       "      <th>1</th>\n",
       "      <td>10531628</td>\n",
       "      <td>AMERICAN CHESAPEAKE CLUB CHARITABLE TR</td>\n",
       "      <td>T3</td>\n",
       "      <td>Independent</td>\n",
       "      <td>C2000</td>\n",
       "      <td>Preservation</td>\n",
       "      <td>Co-operative</td>\n",
       "      <td>1</td>\n",
       "      <td>1-9999</td>\n",
       "      <td>N</td>\n",
       "      <td>108590</td>\n",
       "      <td>1</td>\n",
       "    </tr>\n",
       "    <tr>\n",
       "      <th>2</th>\n",
       "      <td>10547893</td>\n",
       "      <td>ST CLOUD PROFESSIONAL FIREFIGHTERS</td>\n",
       "      <td>T5</td>\n",
       "      <td>CompanySponsored</td>\n",
       "      <td>C3000</td>\n",
       "      <td>ProductDev</td>\n",
       "      <td>Association</td>\n",
       "      <td>1</td>\n",
       "      <td>0</td>\n",
       "      <td>N</td>\n",
       "      <td>5000</td>\n",
       "      <td>0</td>\n",
       "    </tr>\n",
       "    <tr>\n",
       "      <th>3</th>\n",
       "      <td>10553066</td>\n",
       "      <td>SOUTHSIDE ATHLETIC ASSOCIATION</td>\n",
       "      <td>T3</td>\n",
       "      <td>CompanySponsored</td>\n",
       "      <td>C2000</td>\n",
       "      <td>Preservation</td>\n",
       "      <td>Trust</td>\n",
       "      <td>1</td>\n",
       "      <td>10000-24999</td>\n",
       "      <td>N</td>\n",
       "      <td>6692</td>\n",
       "      <td>1</td>\n",
       "    </tr>\n",
       "    <tr>\n",
       "      <th>4</th>\n",
       "      <td>10556103</td>\n",
       "      <td>GENETIC RESEARCH INSTITUTE OF THE DESERT</td>\n",
       "      <td>T3</td>\n",
       "      <td>Independent</td>\n",
       "      <td>C1000</td>\n",
       "      <td>Heathcare</td>\n",
       "      <td>Trust</td>\n",
       "      <td>1</td>\n",
       "      <td>100000-499999</td>\n",
       "      <td>N</td>\n",
       "      <td>142590</td>\n",
       "      <td>1</td>\n",
       "    </tr>\n",
       "  </tbody>\n",
       "</table>\n",
       "</div>"
      ],
      "text/plain": [
       "        EIN                                      NAME APPLICATION_TYPE  \\\n",
       "0  10520599              BLUE KNIGHTS MOTORCYCLE CLUB              T10   \n",
       "1  10531628    AMERICAN CHESAPEAKE CLUB CHARITABLE TR               T3   \n",
       "2  10547893        ST CLOUD PROFESSIONAL FIREFIGHTERS               T5   \n",
       "3  10553066            SOUTHSIDE ATHLETIC ASSOCIATION               T3   \n",
       "4  10556103  GENETIC RESEARCH INSTITUTE OF THE DESERT               T3   \n",
       "\n",
       "        AFFILIATION CLASSIFICATION      USE_CASE  ORGANIZATION  STATUS  \\\n",
       "0       Independent          C1000    ProductDev   Association       1   \n",
       "1       Independent          C2000  Preservation  Co-operative       1   \n",
       "2  CompanySponsored          C3000    ProductDev   Association       1   \n",
       "3  CompanySponsored          C2000  Preservation         Trust       1   \n",
       "4       Independent          C1000     Heathcare         Trust       1   \n",
       "\n",
       "      INCOME_AMT SPECIAL_CONSIDERATIONS  ASK_AMT  IS_SUCCESSFUL  \n",
       "0              0                      N     5000              1  \n",
       "1         1-9999                      N   108590              1  \n",
       "2              0                      N     5000              0  \n",
       "3    10000-24999                      N     6692              1  \n",
       "4  100000-499999                      N   142590              1  "
      ]
     },
     "execution_count": 6,
     "metadata": {},
     "output_type": "execute_result"
    }
   ],
   "source": [
    "# Import our dependencies\n",
    "from sklearn.model_selection import train_test_split\n",
    "from sklearn.preprocessing import StandardScaler\n",
    "import pandas as pd\n",
    "import tensorflow as tf\n",
    "\n",
    "#  Import and read the charity_data.csv.\n",
    "import pandas as pd \n",
    "ASK_AMT_df = pd.read_csv(\"https://static.bc-edx.com/data/dl-1-2/m21/lms/starter/charity_data.csv\")\n",
    "ASK_AMT_df.head()"
   ]
  },
  {
   "cell_type": "code",
   "execution_count": 7,
   "metadata": {},
   "outputs": [],
   "source": [
    "# Drop the non-beneficial ID columns, 'EIN' and 'NAME'.\n",
    "ASK_AMT_df = ASK_AMT_df.drop(['EIN', 'NAME'], axis=1)"
   ]
  },
  {
   "cell_type": "code",
   "execution_count": 8,
   "metadata": {},
   "outputs": [
    {
     "name": "stdout",
     "output_type": "stream",
     "text": [
      "APPLICATION_TYPE            17\n",
      "AFFILIATION                  6\n",
      "CLASSIFICATION              71\n",
      "USE_CASE                     5\n",
      "ORGANIZATION                 4\n",
      "STATUS                       2\n",
      "INCOME_AMT                   9\n",
      "SPECIAL_CONSIDERATIONS       2\n",
      "ASK_AMT                   8747\n",
      "IS_SUCCESSFUL                2\n",
      "dtype: int64\n"
     ]
    }
   ],
   "source": [
    "# Determine the number of unique values in each column.\n",
    "unique_values = ASK_AMT_df.nunique()\n",
    "print(unique_values)"
   ]
  },
  {
   "cell_type": "code",
   "execution_count": 9,
   "metadata": {},
   "outputs": [
    {
     "name": "stdout",
     "output_type": "stream",
     "text": [
      "ASK_AMT\n",
      "5000        25398\n",
      "10478           3\n",
      "15583           3\n",
      "63981           3\n",
      "6725            3\n",
      "            ...  \n",
      "5371754         1\n",
      "30060           1\n",
      "43091152        1\n",
      "18683           1\n",
      "36500179        1\n",
      "Name: count, Length: 8747, dtype: int64\n"
     ]
    }
   ],
   "source": [
    "# Look at ASK_AMT value counts for binning\n",
    "ASK_AMT_counts = ASK_AMT_df['ASK_AMT'].value_counts()\n",
    "print(ASK_AMT_counts)"
   ]
  },
  {
   "cell_type": "code",
   "execution_count": 10,
   "metadata": {},
   "outputs": [
    {
     "data": {
      "text/plain": [
       "ASK_AMT\n",
       "5000     25398\n",
       "Other     8901\n",
       "Name: count, dtype: int64"
      ]
     },
     "execution_count": 10,
     "metadata": {},
     "output_type": "execute_result"
    }
   ],
   "source": [
    "# Choose a cutoff value and create a list of application types to be replaced\n",
    "# use the variable name `application_types_to_replace`\n",
    "# First, look at APPLICATION_TYPE value counts for binning\n",
    "ASK_AMT_counts = ASK_AMT_df['ASK_AMT'].value_counts()\n",
    "\n",
    "# Next, determine which values to replace\n",
    "cutoff = 100 \n",
    "ASK_AMT_to_replace = ASK_AMT_counts[ASK_AMT_counts < cutoff].index.tolist()\n",
    "\n",
    "# Then, replace in dataframe\n",
    "for app in ASK_AMT_to_replace:\n",
    "    ASK_AMT_df['ASK_AMT'] = ASK_AMT_df['ASK_AMT'].replace(app,\"Other\")\n",
    "\n",
    "# Finally, check to make sure binning was successful\n",
    "ASK_AMT_df['ASK_AMT'].value_counts()"
   ]
  },
  {
   "cell_type": "code",
   "execution_count": 11,
   "metadata": {},
   "outputs": [
    {
     "name": "stdout",
     "output_type": "stream",
     "text": [
      "INCOME_AMT\n",
      "0                24388\n",
      "25000-99999       3747\n",
      "100000-499999     3374\n",
      "1M-5M              955\n",
      "1-9999             728\n",
      "10000-24999        543\n",
      "10M-50M            240\n",
      "5M-10M             185\n",
      "50M+               139\n",
      "Name: count, dtype: int64\n"
     ]
    }
   ],
   "source": [
    "# Look at CLASSIFICATION value counts for binning\n",
    "CLASSIFICATION_counts = ASK_AMT_df['CLASSIFICATION'].value_counts()\n",
    "print(CLASSIFICATION_counts)"
   ]
  },
  {
   "cell_type": "code",
   "execution_count": 12,
   "metadata": {
    "scrolled": true
   },
   "outputs": [
    {
     "name": "stdout",
     "output_type": "stream",
     "text": [
      "INCOME_AMT\n",
      "0                24388\n",
      "25000-99999       3747\n",
      "100000-499999     3374\n",
      "1M-5M              955\n",
      "1-9999             728\n",
      "10000-24999        543\n",
      "10M-50M            240\n",
      "5M-10M             185\n",
      "50M+               139\n",
      "Name: count, dtype: int64\n"
     ]
    }
   ],
   "source": [
    "# You may find it helpful to look at CLASSIFICATION value counts >1\n",
    "CLASSIFICATION_counts = ASK_AMT_df['CLASSIFICATION'].value_counts()\n",
    "CLASSIFICATION_counts_gt1 = CLASSIFICATION_counts[CLASSIFICATION_counts > 1]\n",
    "print(CLASSIFICATION_counts_gt1)"
   ]
  },
  {
   "cell_type": "code",
   "execution_count": 13,
   "metadata": {},
   "outputs": [
    {
     "data": {
      "text/plain": [
       "INCOME_AMT\n",
       "0                24388\n",
       "25000-99999       3747\n",
       "100000-499999     3374\n",
       "1M-5M              955\n",
       "1-9999             728\n",
       "10000-24999        543\n",
       "10M-50M            240\n",
       "5M-10M             185\n",
       "50M+               139\n",
       "Name: count, dtype: int64"
      ]
     },
     "execution_count": 13,
     "metadata": {},
     "output_type": "execute_result"
    }
   ],
   "source": [
    "# Choose a cutoff value and create a list of classifications to be replaced\n",
    "# use the variable name `classifications_to_replace`\n",
    "# First, look at CLASSIFICATION value counts for binning\n",
    "CLASSIFICATION_counts = ASK_AMT_df['CLASSIFICATION'].value_counts()\n",
    "\n",
    "# Next, determine which values to replace if their count is below a certain cutoff\n",
    "cutoff = 100\n",
    "CLASSIFICATION_to_replace = CLASSIFICATION_counts[INCOME_AMT_counts < cutoff].index.tolist()\n",
    "\n",
    "# Then, replace in dataframe\n",
    "for cls in INCOME_AMT_to_replace:\n",
    "    ASK_AMT_df['INCOME_AMT'] = ASK_AMT_df['INCOME_AMT'].replace(cls,\"Other\")\n",
    "    \n",
    "# Finally, check to make sure binning was successful\n",
    "ASK_AMT_df['INCOME_AMT'].value_counts()"
   ]
  },
  {
   "cell_type": "code",
   "execution_count": 14,
   "metadata": {},
   "outputs": [
    {
     "data": {
      "text/html": [
       "<div>\n",
       "<style scoped>\n",
       "    .dataframe tbody tr th:only-of-type {\n",
       "        vertical-align: middle;\n",
       "    }\n",
       "\n",
       "    .dataframe tbody tr th {\n",
       "        vertical-align: top;\n",
       "    }\n",
       "\n",
       "    .dataframe thead th {\n",
       "        text-align: right;\n",
       "    }\n",
       "</style>\n",
       "<table border=\"1\" class=\"dataframe\">\n",
       "  <thead>\n",
       "    <tr style=\"text-align: right;\">\n",
       "      <th></th>\n",
       "      <th>STATUS</th>\n",
       "      <th>IS_SUCCESSFUL</th>\n",
       "      <th>APPLICATION_TYPE_T10</th>\n",
       "      <th>APPLICATION_TYPE_T12</th>\n",
       "      <th>APPLICATION_TYPE_T13</th>\n",
       "      <th>APPLICATION_TYPE_T14</th>\n",
       "      <th>APPLICATION_TYPE_T15</th>\n",
       "      <th>APPLICATION_TYPE_T17</th>\n",
       "      <th>APPLICATION_TYPE_T19</th>\n",
       "      <th>APPLICATION_TYPE_T2</th>\n",
       "      <th>...</th>\n",
       "      <th>INCOME_AMT_100000-499999</th>\n",
       "      <th>INCOME_AMT_10M-50M</th>\n",
       "      <th>INCOME_AMT_1M-5M</th>\n",
       "      <th>INCOME_AMT_25000-99999</th>\n",
       "      <th>INCOME_AMT_50M+</th>\n",
       "      <th>INCOME_AMT_5M-10M</th>\n",
       "      <th>SPECIAL_CONSIDERATIONS_N</th>\n",
       "      <th>SPECIAL_CONSIDERATIONS_Y</th>\n",
       "      <th>ASK_AMT_5000</th>\n",
       "      <th>ASK_AMT_Other</th>\n",
       "    </tr>\n",
       "  </thead>\n",
       "  <tbody>\n",
       "    <tr>\n",
       "      <th>0</th>\n",
       "      <td>1</td>\n",
       "      <td>1</td>\n",
       "      <td>True</td>\n",
       "      <td>False</td>\n",
       "      <td>False</td>\n",
       "      <td>False</td>\n",
       "      <td>False</td>\n",
       "      <td>False</td>\n",
       "      <td>False</td>\n",
       "      <td>False</td>\n",
       "      <td>...</td>\n",
       "      <td>False</td>\n",
       "      <td>False</td>\n",
       "      <td>False</td>\n",
       "      <td>False</td>\n",
       "      <td>False</td>\n",
       "      <td>False</td>\n",
       "      <td>True</td>\n",
       "      <td>False</td>\n",
       "      <td>True</td>\n",
       "      <td>False</td>\n",
       "    </tr>\n",
       "    <tr>\n",
       "      <th>1</th>\n",
       "      <td>1</td>\n",
       "      <td>1</td>\n",
       "      <td>False</td>\n",
       "      <td>False</td>\n",
       "      <td>False</td>\n",
       "      <td>False</td>\n",
       "      <td>False</td>\n",
       "      <td>False</td>\n",
       "      <td>False</td>\n",
       "      <td>False</td>\n",
       "      <td>...</td>\n",
       "      <td>False</td>\n",
       "      <td>False</td>\n",
       "      <td>False</td>\n",
       "      <td>False</td>\n",
       "      <td>False</td>\n",
       "      <td>False</td>\n",
       "      <td>True</td>\n",
       "      <td>False</td>\n",
       "      <td>False</td>\n",
       "      <td>True</td>\n",
       "    </tr>\n",
       "    <tr>\n",
       "      <th>2</th>\n",
       "      <td>1</td>\n",
       "      <td>0</td>\n",
       "      <td>False</td>\n",
       "      <td>False</td>\n",
       "      <td>False</td>\n",
       "      <td>False</td>\n",
       "      <td>False</td>\n",
       "      <td>False</td>\n",
       "      <td>False</td>\n",
       "      <td>False</td>\n",
       "      <td>...</td>\n",
       "      <td>False</td>\n",
       "      <td>False</td>\n",
       "      <td>False</td>\n",
       "      <td>False</td>\n",
       "      <td>False</td>\n",
       "      <td>False</td>\n",
       "      <td>True</td>\n",
       "      <td>False</td>\n",
       "      <td>True</td>\n",
       "      <td>False</td>\n",
       "    </tr>\n",
       "    <tr>\n",
       "      <th>3</th>\n",
       "      <td>1</td>\n",
       "      <td>1</td>\n",
       "      <td>False</td>\n",
       "      <td>False</td>\n",
       "      <td>False</td>\n",
       "      <td>False</td>\n",
       "      <td>False</td>\n",
       "      <td>False</td>\n",
       "      <td>False</td>\n",
       "      <td>False</td>\n",
       "      <td>...</td>\n",
       "      <td>False</td>\n",
       "      <td>False</td>\n",
       "      <td>False</td>\n",
       "      <td>False</td>\n",
       "      <td>False</td>\n",
       "      <td>False</td>\n",
       "      <td>True</td>\n",
       "      <td>False</td>\n",
       "      <td>False</td>\n",
       "      <td>True</td>\n",
       "    </tr>\n",
       "    <tr>\n",
       "      <th>4</th>\n",
       "      <td>1</td>\n",
       "      <td>1</td>\n",
       "      <td>False</td>\n",
       "      <td>False</td>\n",
       "      <td>False</td>\n",
       "      <td>False</td>\n",
       "      <td>False</td>\n",
       "      <td>False</td>\n",
       "      <td>False</td>\n",
       "      <td>False</td>\n",
       "      <td>...</td>\n",
       "      <td>True</td>\n",
       "      <td>False</td>\n",
       "      <td>False</td>\n",
       "      <td>False</td>\n",
       "      <td>False</td>\n",
       "      <td>False</td>\n",
       "      <td>True</td>\n",
       "      <td>False</td>\n",
       "      <td>False</td>\n",
       "      <td>True</td>\n",
       "    </tr>\n",
       "  </tbody>\n",
       "</table>\n",
       "<p>5 rows × 118 columns</p>\n",
       "</div>"
      ],
      "text/plain": [
       "   STATUS  IS_SUCCESSFUL  APPLICATION_TYPE_T10  APPLICATION_TYPE_T12  \\\n",
       "0       1              1                  True                 False   \n",
       "1       1              1                 False                 False   \n",
       "2       1              0                 False                 False   \n",
       "3       1              1                 False                 False   \n",
       "4       1              1                 False                 False   \n",
       "\n",
       "   APPLICATION_TYPE_T13  APPLICATION_TYPE_T14  APPLICATION_TYPE_T15  \\\n",
       "0                 False                 False                 False   \n",
       "1                 False                 False                 False   \n",
       "2                 False                 False                 False   \n",
       "3                 False                 False                 False   \n",
       "4                 False                 False                 False   \n",
       "\n",
       "   APPLICATION_TYPE_T17  APPLICATION_TYPE_T19  APPLICATION_TYPE_T2  ...  \\\n",
       "0                 False                 False                False  ...   \n",
       "1                 False                 False                False  ...   \n",
       "2                 False                 False                False  ...   \n",
       "3                 False                 False                False  ...   \n",
       "4                 False                 False                False  ...   \n",
       "\n",
       "   INCOME_AMT_100000-499999  INCOME_AMT_10M-50M  INCOME_AMT_1M-5M  \\\n",
       "0                     False               False             False   \n",
       "1                     False               False             False   \n",
       "2                     False               False             False   \n",
       "3                     False               False             False   \n",
       "4                      True               False             False   \n",
       "\n",
       "   INCOME_AMT_25000-99999  INCOME_AMT_50M+  INCOME_AMT_5M-10M  \\\n",
       "0                   False            False              False   \n",
       "1                   False            False              False   \n",
       "2                   False            False              False   \n",
       "3                   False            False              False   \n",
       "4                   False            False              False   \n",
       "\n",
       "   SPECIAL_CONSIDERATIONS_N  SPECIAL_CONSIDERATIONS_Y  ASK_AMT_5000  \\\n",
       "0                      True                     False          True   \n",
       "1                      True                     False         False   \n",
       "2                      True                     False          True   \n",
       "3                      True                     False         False   \n",
       "4                      True                     False         False   \n",
       "\n",
       "   ASK_AMT_Other  \n",
       "0          False  \n",
       "1           True  \n",
       "2          False  \n",
       "3           True  \n",
       "4           True  \n",
       "\n",
       "[5 rows x 118 columns]"
      ]
     },
     "execution_count": 14,
     "metadata": {},
     "output_type": "execute_result"
    }
   ],
   "source": [
    "# Convert categorical data to numeric with `pd.get_dummies`\n",
    "ASK_AMT_df_dummies = pd.get_dummies(ASK_AMT_df)\n",
    "\n",
    "# Display the first few rows of the new DataFrame to verify the transformation\n",
    "ASK_AMT_df_dummies.head()"
   ]
  },
  {
   "cell_type": "code",
   "execution_count": 15,
   "metadata": {
    "scrolled": true
   },
   "outputs": [],
   "source": [
    "# Split our preprocessed data into our features and target arrays\n",
    "y = ASK_AMT_df_dummies['IS_SUCCESSFUL'].values\n",
    "X = ASK_AMT_df_dummies.drop(['IS_SUCCESSFUL'], axis=1).values\n",
    "\n",
    "# Split the preprocessed data into a training and testing dataset\n",
    "X_train, X_test, y_train, y_test = train_test_split(X, y, random_state=42)"
   ]
  },
  {
   "cell_type": "code",
   "execution_count": 16,
   "metadata": {},
   "outputs": [],
   "source": [
    "# Convert data types to float32, for model training below. \n",
    "X_train = X_train.astype('float32')\n",
    "X_test = X_test.astype('float32')\n",
    "y_train = y_train.astype('float32')\n",
    "y_test = y_test.astype('float32')"
   ]
  },
  {
   "cell_type": "code",
   "execution_count": 17,
   "metadata": {},
   "outputs": [],
   "source": [
    "# Create a StandardScaler instances\n",
    "scaler = StandardScaler()\n",
    "\n",
    "# Fit the StandardScaler\n",
    "X_scaler = scaler.fit(X_train)\n",
    "\n",
    "# Scale the data\n",
    "X_train_scaled = X_scaler.transform(X_train)\n",
    "X_test_scaled = X_scaler.transform(X_test)"
   ]
  },
  {
   "cell_type": "markdown",
   "metadata": {},
   "source": [
    "## Compile, Train and Evaluate the Model"
   ]
  },
  {
   "cell_type": "code",
   "execution_count": 18,
   "metadata": {},
   "outputs": [
    {
     "name": "stdout",
     "output_type": "stream",
     "text": [
      "WARNING:tensorflow:From C:\\Users\\sampl\\anaconda3.1\\Lib\\site-packages\\keras\\src\\backend.py:873: The name tf.get_default_graph is deprecated. Please use tf.compat.v1.get_default_graph instead.\n",
      "\n",
      "Model: \"sequential\"\n",
      "_________________________________________________________________\n",
      " Layer (type)                Output Shape              Param #   \n",
      "=================================================================\n",
      " dense (Dense)               (None, 90)                10620     \n",
      "                                                                 \n",
      " dense_1 (Dense)             (None, 40)                3640      \n",
      "                                                                 \n",
      " dense_2 (Dense)             (None, 1)                 41        \n",
      "                                                                 \n",
      "=================================================================\n",
      "Total params: 14301 (55.86 KB)\n",
      "Trainable params: 14301 (55.86 KB)\n",
      "Non-trainable params: 0 (0.00 Byte)\n",
      "_________________________________________________________________\n"
     ]
    }
   ],
   "source": [
    "# Define the model - deep neural net, i.e., the number of input features and hidden nodes for each layer.\n",
    "n_features = X_train.shape[1]\n",
    "number_hidden_nodes_layer1 = 90\n",
    "number_hidden_nodes_layer2 = 40\n",
    "\n",
    "nn = tf.keras.models.Sequential()\n",
    "\n",
    "# First hidden layer\n",
    "nn.add(tf.keras.layers.Dense(units=number_hidden_nodes_layer1, input_dim=n_features, activation='relu'))\n",
    "\n",
    "# Second hidden layer\n",
    "nn.add(tf.keras.layers.Dense(units=number_hidden_nodes_layer2, activation='relu'))\n",
    "\n",
    "# Output layer\n",
    "nn.add(tf.keras.layers.Dense(units=1, activation='sigmoid'))\n",
    "\n",
    "# Check the structure of the model\n",
    "nn.summary()"
   ]
  },
  {
   "cell_type": "code",
   "execution_count": 19,
   "metadata": {},
   "outputs": [
    {
     "name": "stdout",
     "output_type": "stream",
     "text": [
      "WARNING:tensorflow:From C:\\Users\\sampl\\anaconda3.1\\Lib\\site-packages\\keras\\src\\optimizers\\__init__.py:309: The name tf.train.Optimizer is deprecated. Please use tf.compat.v1.train.Optimizer instead.\n",
      "\n"
     ]
    }
   ],
   "source": [
    "# Compile the model\n",
    "nn.compile(optimizer='adam', loss='binary_crossentropy', metrics=['accuracy'])"
   ]
  },
  {
   "cell_type": "code",
   "execution_count": 20,
   "metadata": {
    "scrolled": true
   },
   "outputs": [
    {
     "name": "stdout",
     "output_type": "stream",
     "text": [
      "Epoch 1/50\n",
      "WARNING:tensorflow:From C:\\Users\\sampl\\anaconda3.1\\Lib\\site-packages\\keras\\src\\utils\\tf_utils.py:492: The name tf.ragged.RaggedTensorValue is deprecated. Please use tf.compat.v1.ragged.RaggedTensorValue instead.\n",
      "\n",
      "WARNING:tensorflow:From C:\\Users\\sampl\\anaconda3.1\\Lib\\site-packages\\keras\\src\\engine\\base_layer_utils.py:384: The name tf.executing_eagerly_outside_functions is deprecated. Please use tf.compat.v1.executing_eagerly_outside_functions instead.\n",
      "\n",
      "644/644 [==============================] - 2s 2ms/step - loss: 0.5742 - accuracy: 0.7161 - val_loss: 0.5461 - val_accuracy: 0.7384\n",
      "Epoch 2/50\n",
      "644/644 [==============================] - 1s 2ms/step - loss: 0.5531 - accuracy: 0.7261 - val_loss: 0.5431 - val_accuracy: 0.7370\n",
      "Epoch 3/50\n",
      "644/644 [==============================] - 1s 2ms/step - loss: 0.5494 - accuracy: 0.7279 - val_loss: 0.5448 - val_accuracy: 0.7339\n",
      "Epoch 4/50\n",
      "644/644 [==============================] - 1s 2ms/step - loss: 0.5467 - accuracy: 0.7282 - val_loss: 0.5427 - val_accuracy: 0.7397\n",
      "Epoch 5/50\n",
      "644/644 [==============================] - 1s 2ms/step - loss: 0.5451 - accuracy: 0.7329 - val_loss: 0.5512 - val_accuracy: 0.7333\n",
      "Epoch 6/50\n",
      "644/644 [==============================] - 1s 2ms/step - loss: 0.5433 - accuracy: 0.7323 - val_loss: 0.5450 - val_accuracy: 0.7384\n",
      "Epoch 7/50\n",
      "644/644 [==============================] - 1s 2ms/step - loss: 0.5428 - accuracy: 0.7332 - val_loss: 0.5399 - val_accuracy: 0.7399\n",
      "Epoch 8/50\n",
      "644/644 [==============================] - 1s 2ms/step - loss: 0.5419 - accuracy: 0.7327 - val_loss: 0.5412 - val_accuracy: 0.7407\n",
      "Epoch 9/50\n",
      "644/644 [==============================] - 1s 2ms/step - loss: 0.5411 - accuracy: 0.7344 - val_loss: 0.5445 - val_accuracy: 0.7388\n",
      "Epoch 10/50\n",
      "644/644 [==============================] - 1s 2ms/step - loss: 0.5404 - accuracy: 0.7320 - val_loss: 0.5428 - val_accuracy: 0.7318\n",
      "Epoch 11/50\n",
      "644/644 [==============================] - 1s 2ms/step - loss: 0.5393 - accuracy: 0.7351 - val_loss: 0.5410 - val_accuracy: 0.7374\n",
      "Epoch 12/50\n",
      "644/644 [==============================] - 1s 2ms/step - loss: 0.5389 - accuracy: 0.7357 - val_loss: 0.5440 - val_accuracy: 0.7312\n",
      "Epoch 13/50\n",
      "644/644 [==============================] - 1s 2ms/step - loss: 0.5392 - accuracy: 0.7357 - val_loss: 0.5404 - val_accuracy: 0.7403\n",
      "Epoch 14/50\n",
      "644/644 [==============================] - 1s 2ms/step - loss: 0.5373 - accuracy: 0.7378 - val_loss: 0.5412 - val_accuracy: 0.7376\n",
      "Epoch 15/50\n",
      "644/644 [==============================] - 1s 2ms/step - loss: 0.5372 - accuracy: 0.7356 - val_loss: 0.5478 - val_accuracy: 0.7357\n",
      "Epoch 16/50\n",
      "644/644 [==============================] - 1s 2ms/step - loss: 0.5370 - accuracy: 0.7360 - val_loss: 0.5407 - val_accuracy: 0.7378\n",
      "Epoch 17/50\n",
      "644/644 [==============================] - 1s 2ms/step - loss: 0.5361 - accuracy: 0.7362 - val_loss: 0.5449 - val_accuracy: 0.7368\n",
      "Epoch 18/50\n",
      "644/644 [==============================] - 1s 2ms/step - loss: 0.5360 - accuracy: 0.7363 - val_loss: 0.5423 - val_accuracy: 0.7382\n",
      "Epoch 19/50\n",
      "644/644 [==============================] - 1s 2ms/step - loss: 0.5354 - accuracy: 0.7373 - val_loss: 0.5430 - val_accuracy: 0.7370\n",
      "Epoch 20/50\n",
      "644/644 [==============================] - 1s 2ms/step - loss: 0.5348 - accuracy: 0.7386 - val_loss: 0.5428 - val_accuracy: 0.7370\n",
      "Epoch 21/50\n",
      "644/644 [==============================] - 1s 2ms/step - loss: 0.5343 - accuracy: 0.7365 - val_loss: 0.5450 - val_accuracy: 0.7370\n",
      "Epoch 22/50\n",
      "644/644 [==============================] - 1s 2ms/step - loss: 0.5340 - accuracy: 0.7360 - val_loss: 0.5461 - val_accuracy: 0.7361\n",
      "Epoch 23/50\n",
      "644/644 [==============================] - 1s 2ms/step - loss: 0.5337 - accuracy: 0.7385 - val_loss: 0.5442 - val_accuracy: 0.7366\n",
      "Epoch 24/50\n",
      "644/644 [==============================] - 1s 2ms/step - loss: 0.5333 - accuracy: 0.7380 - val_loss: 0.5429 - val_accuracy: 0.7382\n",
      "Epoch 25/50\n",
      "644/644 [==============================] - 1s 2ms/step - loss: 0.5327 - accuracy: 0.7392 - val_loss: 0.5458 - val_accuracy: 0.7374\n",
      "Epoch 26/50\n",
      "644/644 [==============================] - 1s 2ms/step - loss: 0.5322 - accuracy: 0.7399 - val_loss: 0.5473 - val_accuracy: 0.7392\n",
      "Epoch 27/50\n",
      "644/644 [==============================] - 1s 2ms/step - loss: 0.5316 - accuracy: 0.7388 - val_loss: 0.5484 - val_accuracy: 0.7349\n",
      "Epoch 28/50\n",
      "644/644 [==============================] - 1s 2ms/step - loss: 0.5319 - accuracy: 0.7380 - val_loss: 0.5464 - val_accuracy: 0.7326\n",
      "Epoch 29/50\n",
      "644/644 [==============================] - 1s 2ms/step - loss: 0.5310 - accuracy: 0.7395 - val_loss: 0.5480 - val_accuracy: 0.7378\n",
      "Epoch 30/50\n",
      "644/644 [==============================] - 1s 2ms/step - loss: 0.5312 - accuracy: 0.7394 - val_loss: 0.5535 - val_accuracy: 0.7364\n",
      "Epoch 31/50\n",
      "644/644 [==============================] - 1s 2ms/step - loss: 0.5309 - accuracy: 0.7397 - val_loss: 0.5479 - val_accuracy: 0.7386\n",
      "Epoch 32/50\n",
      "644/644 [==============================] - 1s 2ms/step - loss: 0.5307 - accuracy: 0.7393 - val_loss: 0.5469 - val_accuracy: 0.7372\n",
      "Epoch 33/50\n",
      "644/644 [==============================] - 1s 2ms/step - loss: 0.5306 - accuracy: 0.7392 - val_loss: 0.5497 - val_accuracy: 0.7384\n",
      "Epoch 34/50\n",
      "644/644 [==============================] - 1s 2ms/step - loss: 0.5299 - accuracy: 0.7392 - val_loss: 0.5501 - val_accuracy: 0.7362\n",
      "Epoch 35/50\n",
      "644/644 [==============================] - 1s 2ms/step - loss: 0.5302 - accuracy: 0.7393 - val_loss: 0.5481 - val_accuracy: 0.7320\n",
      "Epoch 36/50\n",
      "644/644 [==============================] - 1s 2ms/step - loss: 0.5293 - accuracy: 0.7400 - val_loss: 0.5528 - val_accuracy: 0.7394\n",
      "Epoch 37/50\n",
      "644/644 [==============================] - 1s 2ms/step - loss: 0.5293 - accuracy: 0.7391 - val_loss: 0.5496 - val_accuracy: 0.7370\n",
      "Epoch 38/50\n",
      "644/644 [==============================] - 1s 2ms/step - loss: 0.5290 - accuracy: 0.7408 - val_loss: 0.5537 - val_accuracy: 0.7388\n",
      "Epoch 39/50\n",
      "644/644 [==============================] - 1s 2ms/step - loss: 0.5290 - accuracy: 0.7405 - val_loss: 0.5515 - val_accuracy: 0.7396\n",
      "Epoch 40/50\n",
      "644/644 [==============================] - 1s 2ms/step - loss: 0.5283 - accuracy: 0.7410 - val_loss: 0.5525 - val_accuracy: 0.7382\n",
      "Epoch 41/50\n",
      "644/644 [==============================] - 1s 2ms/step - loss: 0.5289 - accuracy: 0.7411 - val_loss: 0.5502 - val_accuracy: 0.7382\n",
      "Epoch 42/50\n",
      "644/644 [==============================] - 1s 2ms/step - loss: 0.5282 - accuracy: 0.7399 - val_loss: 0.5499 - val_accuracy: 0.7401\n",
      "Epoch 43/50\n",
      "644/644 [==============================] - 1s 2ms/step - loss: 0.5287 - accuracy: 0.7413 - val_loss: 0.5506 - val_accuracy: 0.7401\n",
      "Epoch 44/50\n",
      "644/644 [==============================] - 1s 2ms/step - loss: 0.5281 - accuracy: 0.7410 - val_loss: 0.5513 - val_accuracy: 0.7378\n",
      "Epoch 45/50\n",
      "644/644 [==============================] - 1s 2ms/step - loss: 0.5279 - accuracy: 0.7423 - val_loss: 0.5546 - val_accuracy: 0.7378\n",
      "Epoch 46/50\n",
      "644/644 [==============================] - 1s 2ms/step - loss: 0.5280 - accuracy: 0.7401 - val_loss: 0.5552 - val_accuracy: 0.7329\n",
      "Epoch 47/50\n",
      "644/644 [==============================] - 1s 2ms/step - loss: 0.5275 - accuracy: 0.7401 - val_loss: 0.5542 - val_accuracy: 0.7384\n",
      "Epoch 48/50\n",
      "644/644 [==============================] - 1s 2ms/step - loss: 0.5275 - accuracy: 0.7418 - val_loss: 0.5545 - val_accuracy: 0.7353\n",
      "Epoch 49/50\n",
      "644/644 [==============================] - 1s 2ms/step - loss: 0.5272 - accuracy: 0.7422 - val_loss: 0.5549 - val_accuracy: 0.7399\n",
      "Epoch 50/50\n",
      "644/644 [==============================] - 1s 2ms/step - loss: 0.5269 - accuracy: 0.7418 - val_loss: 0.5593 - val_accuracy: 0.7374\n"
     ]
    }
   ],
   "source": [
    "# Train the model\n",
    "history = nn.fit(X_train, y_train, epochs=50, batch_size=32, validation_split=0.2)"
   ]
  },
  {
   "cell_type": "code",
   "execution_count": 21,
   "metadata": {},
   "outputs": [
    {
     "name": "stdout",
     "output_type": "stream",
     "text": [
      "268/268 - 0s - loss: 5.5561 - accuracy: 0.6097 - 282ms/epoch - 1ms/step\n",
      "Loss: 5.5560784339904785, Accuracy: 0.6096792817115784\n"
     ]
    }
   ],
   "source": [
    "# Evaluate the model using the test data\n",
    "model_loss, model_accuracy = nn.evaluate(X_test_scaled,y_test,verbose=2)\n",
    "print(f\"Loss: {model_loss}, Accuracy: {model_accuracy}\")"
   ]
  },
  {
   "cell_type": "code",
   "execution_count": 22,
   "metadata": {},
   "outputs": [
    {
     "name": "stderr",
     "output_type": "stream",
     "text": [
      "C:\\Users\\sampl\\anaconda3.1\\Lib\\site-packages\\keras\\src\\engine\\training.py:3103: UserWarning: You are saving your model as an HDF5 file via `model.save()`. This file format is considered legacy. We recommend using instead the native Keras format, e.g. `model.save('my_model.keras')`.\n",
      "  saving_api.save_model(\n"
     ]
    }
   ],
   "source": [
    "# Export our model to HDF5 file\n",
    "nn.save(\"AlphabetSoupCharity_Optimization_4.h5\")"
   ]
  },
  {
   "cell_type": "code",
   "execution_count": null,
   "metadata": {},
   "outputs": [],
   "source": []
  }
 ],
 "metadata": {
  "kernelspec": {
   "display_name": "Python 3 (ipykernel)",
   "language": "python",
   "name": "python3"
  },
  "language_info": {
   "codemirror_mode": {
    "name": "ipython",
    "version": 3
   },
   "file_extension": ".py",
   "mimetype": "text/x-python",
   "name": "python",
   "nbconvert_exporter": "python",
   "pygments_lexer": "ipython3",
   "version": "3.11.4"
  },
  "vscode": {
   "interpreter": {
    "hash": "31f2aee4e71d21fbe5cf8b01ff0e069b9275f58929596ceb00d14d90e3e16cd6"
   }
  }
 },
 "nbformat": 4,
 "nbformat_minor": 4
}
